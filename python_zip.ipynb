{
 "cells": [
  {
   "cell_type": "markdown",
   "id": "88fb0706-ecdc-49b0-9a0d-1b8cb76dd250",
   "metadata": {},
   "source": [
    "# The python zip function."
   ]
  },
  {
   "cell_type": "markdown",
   "id": "a9260e48-420c-48db-bd4a-8a9b61cbe2e0",
   "metadata": {},
   "source": [
    "The python zip function takes two or more  such as lists and tuples, and combines them element wise, returning an iterator of tuples"
   ]
  },
  {
   "cell_type": "code",
   "execution_count": 1,
   "id": "2233e520-812f-4257-be45-b67288578716",
   "metadata": {},
   "outputs": [],
   "source": [
    "student_name = ['Jane', 'Mark', 'Shain', 'Musk']\n",
    "grades = [60, 66, 70, 59]\n",
    "\n",
    "# to combine the two lists above in to a zip\n",
    "student_scores = zip(student_name, grades)"
   ]
  },
  {
   "cell_type": "markdown",
   "id": "e29d1309-1f40-4c6d-879d-d2f078fbaddc",
   "metadata": {},
   "source": [
    "To view the created iterable, we can loop through it or use the unpacking `*` operator in the print function as follows"
   ]
  },
  {
   "cell_type": "code",
   "execution_count": 2,
   "id": "dfcb07ef-eaba-4c2c-8c5d-428b5acc45fa",
   "metadata": {},
   "outputs": [
    {
     "name": "stdout",
     "output_type": "stream",
     "text": [
      "('Jane', 60) ('Mark', 66) ('Shain', 70) ('Musk', 59)\n"
     ]
    }
   ],
   "source": [
    "print(*student_scores)"
   ]
  },
  {
   "cell_type": "code",
   "execution_count": 3,
   "id": "af132a84-ca82-4916-a461-c9211f98f324",
   "metadata": {},
   "outputs": [],
   "source": [
    "for it in student_scores:\n",
    "    print(it)"
   ]
  },
  {
   "cell_type": "markdown",
   "id": "e27dd4ea-8737-4024-a379-0d5b5d6358e4",
   "metadata": {},
   "source": [
    "Once an iterator is exhausted, trying to print it again will not yield any values. That is why the for loop above does not print anything. To see some results, we need to re-initialize the student_scores iterable"
   ]
  },
  {
   "cell_type": "code",
   "execution_count": 4,
   "id": "c882ca46-0247-40c4-acee-32c7d7f00aa0",
   "metadata": {},
   "outputs": [
    {
     "name": "stdout",
     "output_type": "stream",
     "text": [
      "('Jane', 60) ('Mark', 66) ('Shain', 70) ('Musk', 59) "
     ]
    }
   ],
   "source": [
    "student_scores = zip(student_name, grades)\n",
    "\n",
    "for it in student_scores:\n",
    "    print(it, end=\" \")"
   ]
  },
  {
   "cell_type": "markdown",
   "id": "3d269c5f-7cfd-47b8-8ea7-f085b2dea60f",
   "metadata": {},
   "source": [
    "If the input iterables are not of the same length, the zip goes to the length of the shortest iterable."
   ]
  },
  {
   "cell_type": "code",
   "execution_count": 5,
   "id": "2e80a09a-5170-4136-b060-593028cffcae",
   "metadata": {},
   "outputs": [
    {
     "name": "stdout",
     "output_type": "stream",
     "text": [
      "(1, 'a') (2, 'b') (3, 'c') (4, 'd') (5, 'e')\n"
     ]
    }
   ],
   "source": [
    "nums = [1, 2, 3, 4, 5]\n",
    "alphabets = ['a', 'b', 'c', 'd', 'e', 'f', 'g', 'h']\n",
    "print(*zip(nums, alphabets))"
   ]
  },
  {
   "cell_type": "markdown",
   "id": "afe20a1c-3d89-4062-acf5-f2c8f52b9cd1",
   "metadata": {},
   "source": [
    "# How to reverse a zip"
   ]
  },
  {
   "cell_type": "markdown",
   "id": "3157f622-30c9-4ba2-83eb-bdd41706ee30",
   "metadata": {},
   "source": [
    "zip(*student_scores) effectively transposes the zipped result back into two separate iterables, unziped_student_name and unziped_grades. The * operator is used to unpack the zip."
   ]
  },
  {
   "cell_type": "code",
   "execution_count": 6,
   "id": "b3953ed5-9425-43c4-9133-de3bebf01088",
   "metadata": {},
   "outputs": [
    {
     "name": "stdout",
     "output_type": "stream",
     "text": [
      "unziped_student_name ('Jane', 'Mark', 'Shain', 'Musk')\n",
      "unziped_grades (60, 66, 70, 59)\n"
     ]
    }
   ],
   "source": [
    "student_name = ['Jane', 'Mark', 'Shain', 'Musk']\n",
    "grades = [60, 66, 70, 59]\n",
    "\n",
    "# to combine the two lists above in to a zip\n",
    "student_scores = zip(student_name, grades)\n",
    "\n",
    "# to unzip student_scores\n",
    "unziped_student_name, unziped_grades = zip(*student_scores)\n",
    "\n",
    "\n",
    "print(f\"unziped_student_name {unziped_student_name}\")\n",
    "print(f\"unziped_grades {unziped_grades}\")"
   ]
  }
 ],
 "metadata": {
  "kernelspec": {
   "display_name": "Python 3 (ipykernel)",
   "language": "python",
   "name": "python3"
  },
  "language_info": {
   "codemirror_mode": {
    "name": "ipython",
    "version": 3
   },
   "file_extension": ".py",
   "mimetype": "text/x-python",
   "name": "python",
   "nbconvert_exporter": "python",
   "pygments_lexer": "ipython3",
   "version": "3.12.0"
  }
 },
 "nbformat": 4,
 "nbformat_minor": 5
}
